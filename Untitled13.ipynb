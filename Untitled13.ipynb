{
  "nbformat": 4,
  "nbformat_minor": 0,
  "metadata": {
    "colab": {
      "provenance": [],
      "authorship_tag": "ABX9TyNfjPnsjXVREw7lM3mwstF8",
      "include_colab_link": true
    },
    "kernelspec": {
      "name": "python3",
      "display_name": "Python 3"
    },
    "language_info": {
      "name": "python"
    }
  },
  "cells": [
    {
      "cell_type": "markdown",
      "metadata": {
        "id": "view-in-github",
        "colab_type": "text"
      },
      "source": [
        "<a href=\"https://colab.research.google.com/github/Bharath2805/Bharath2805/blob/main/Untitled13.ipynb\" target=\"_parent\"><img src=\"https://colab.research.google.com/assets/colab-badge.svg\" alt=\"Open In Colab\"/></a>"
      ]
    },
    {
      "cell_type": "code",
      "execution_count": 1,
      "metadata": {
        "id": "qusm2BZVa6ly"
      },
      "outputs": [],
      "source": [
        "# celebrity problem ( stack )\n",
        "\n",
        "def find_the_celebrity(L):\n",
        "  n = len(L)\n",
        "  s = []\n",
        "\n",
        "  # push elements into stack(s)\n",
        "  for i in range(L):\n",
        "    s.append(i)\n",
        "  while  len(s)>1:\n",
        "    i = s.pop()\n",
        "    j = s.pop()\n",
        "\n",
        "    if int([i][j] == 0):\n",
        "      s.append(i)\n",
        "    else:\n",
        "      s.append(j)\n",
        "  celebrity  = s.pop()\n",
        "  for i in range(L):\n",
        "    if int(L[i][celebrity]) == 0  or int(l[celebrity][i] ) == 1 :\n",
        "      print(\"no one is celebrity\")\n",
        "      return\n",
        "  print(\"celebrity is \", celebrity)\n"
      ]
    }
  ]
}